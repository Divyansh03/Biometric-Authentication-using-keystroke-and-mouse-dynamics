{
  "nbformat": 4,
  "nbformat_minor": 0,
  "metadata": {
    "colab": {
      "name": "som_intruder.ipynb",
      "provenance": []
    },
    "kernelspec": {
      "name": "python3",
      "display_name": "Python 3"
    }
  },
  "cells": [
    {
      "cell_type": "code",
      "metadata": {
        "id": "iB7OoVVh4IN3",
        "colab_type": "code",
        "colab": {}
      },
      "source": [
        "def timediff(t1,t2):\n",
        "    t1=(t1 + '000')\n",
        "    t2=(t2 + '000')\n",
        "#     day1=datetime.strptime(t1, \"%H:%M:%S.%f\")\n",
        "#     day2=datetime.strptime(t2, \"%H:%M:%S.%f\")\n",
        "\n",
        "\n",
        "    day1=float(t1[6:])\n",
        "    day2=float(t2[6:])\n",
        "    t=round(day2-day1,3)\n",
        "    return (t)\n",
        "    #sec = (day2-day1).total_seconds()\n",
        "\n",
        "\n"
      ],
      "execution_count": 0,
      "outputs": []
    },
    {
      "cell_type": "code",
      "metadata": {
        "id": "xm1bpbwIKQ4-",
        "colab_type": "code",
        "colab": {}
      },
      "source": [
        "!pip install minisom"
      ],
      "execution_count": 0,
      "outputs": []
    },
    {
      "cell_type": "code",
      "metadata": {
        "id": "t_iqaQ2F-_xW",
        "colab_type": "code",
        "colab": {}
      },
      "source": [
        "trainf=[1,2,3,4,5,6,7,8]\n",
        "testf=[9,10]"
      ],
      "execution_count": 0,
      "outputs": []
    },
    {
      "cell_type": "code",
      "metadata": {
        "id": "OPXTHDiXTgT4",
        "colab_type": "code",
        "colab": {}
      },
      "source": [
        "features=[]\n",
        "y=[]"
      ],
      "execution_count": 0,
      "outputs": []
    },
    {
      "cell_type": "code",
      "metadata": {
        "id": "SzWyYLiX5jA_",
        "colab_type": "code",
        "outputId": "4158ac9a-6b4f-45f4-b676-67eceaaff3eb",
        "colab": {
          "base_uri": "https://localhost:8080/",
          "height": 153
        }
      },
      "source": [
        "import os\n",
        "import string\n",
        "from datetime import datetime\n",
        "import numpy as np\n",
        "import itertools\n",
        "\n",
        "\n",
        "for k in trainf:\n",
        " \n",
        "  print (k)\n",
        "  file_name='new_date'+str(k)+'.txt'\n",
        "  lines = [line.rstrip('\\t\\n') for line in open(file_name)]\n",
        "  f_list = [event.split('\\t') for event in lines]\n",
        "\n",
        "\n",
        "\n",
        "  alp = list(string.ascii_lowercase)\n",
        "  alp2 = list(map(''.join,itertools.combinations(string.ascii_lowercase,2)))\n",
        "\n",
        "  #print (alp)\n",
        "  #print (alp2)\n",
        "\n",
        "\n",
        "\n",
        "\n",
        "  # ##########################################################\n",
        "\n",
        "  KeyUps = [x for x in f_list if 'KeyUp' in x]\n",
        "  KeyDowns = [x for x in f_list if 'KeyDown' in x]\n",
        "\n",
        "  # ###########################################################\n",
        "\n",
        "  tups =  [item[-1].split(' ')[-1].split(\":\",1)[1] for item in KeyUps]# if item[1] in alp]\n",
        "  tdowns =  [item1[-1].split(' ')[-1].split(\":\",1)[1] for item1 in KeyDowns]\n",
        "\n",
        "  #print (tups)\n",
        "  # if item1[1] in alp]\n",
        "  try:\n",
        "      letterup =  [item[1].upper() for item in KeyUps]# if item[1] in alp]\n",
        "  except: \n",
        "      pass\n",
        "\n",
        "  try:\n",
        "      letterdown = [item1[1].upper() for item1 in KeyDowns]# if item1[1] in alp]\n",
        "  except:\n",
        "      pass\n",
        "\n",
        "  #print (letterup)\n",
        "\n",
        "  # #############################################################\n",
        "\n",
        "\n",
        "  for i in range(0,len(tups)-1):\n",
        "      t = i\n",
        "\n",
        "      t1 = tdowns[i]\n",
        "\n",
        "      if letterup[t] != letterdown[i]:\n",
        "          j = i\n",
        "\n",
        "          if i == len(tups)-1:\n",
        "              j = 0\n",
        "          while j<len(tups)-1 and letterdown[i]!= letterup[j] and i!=len(tups)-1:\n",
        "              j = j+1\n",
        "\n",
        "          tj = tups[j]\n",
        "          k = i\n",
        "\n",
        "          if i == 0:\n",
        "              k = len(tups)-1\n",
        "          while k>=1 and letterdown[i]!= letterup[k] and i!=0:\n",
        "              k = k-1\n",
        "\n",
        "          tk = tups[k]\n",
        "\n",
        "\n",
        "          if timediff(t1,tk)>0 and timediff(t1,tj)>0 :\n",
        "              if abs(j-i)<abs(i-k):\n",
        "                  t = j\n",
        "              else:\n",
        "                  t = k\n",
        "\n",
        "          elif timediff(t1,tk)<0 :\n",
        "              t = j\n",
        "          else:\n",
        "              t = k\n",
        "\n",
        "      t2 = tups[t]\n",
        "\n",
        "\n",
        "\n",
        "      if i!=len(tups)-1:\n",
        "\n",
        "          t3 = tdowns[i+1]\n",
        "          latency = timediff(t1,t3)\n",
        "\n",
        "          lat = [int(letterdown[i]+letterdown[i+1]),latency]\n",
        "          features.append(lat)\n",
        "          y.append(k-1)\n",
        "\n",
        "      hold_time = timediff(t1,t2)\n",
        "      hold = [int(letterdown[i]),hold_time]\n",
        "      features.append(hold)\n",
        "      y.append(k-1)\n",
        "\n",
        "  #print (features)\n",
        "\n",
        "###################################################################"
      ],
      "execution_count": 251,
      "outputs": [
        {
          "output_type": "stream",
          "text": [
            "1\n",
            "2\n",
            "3\n",
            "4\n",
            "5\n",
            "6\n",
            "7\n",
            "8\n"
          ],
          "name": "stdout"
        }
      ]
    },
    {
      "cell_type": "code",
      "metadata": {
        "id": "Xzdlb0xHgYKi",
        "colab_type": "code",
        "colab": {}
      },
      "source": [
        "features1=[]\n",
        "y1=[]"
      ],
      "execution_count": 0,
      "outputs": []
    },
    {
      "cell_type": "code",
      "metadata": {
        "id": "hhmjBkl2TsQt",
        "colab_type": "code",
        "outputId": "9faaceae-4dda-4ea7-ae42-065655837a74",
        "colab": {
          "base_uri": "https://localhost:8080/",
          "height": 51
        }
      },
      "source": [
        "for k in testf:\n",
        " \n",
        "  print (k)\n",
        "  file_name='new_date'+str(k)+'.txt'\n",
        "  lines = [line.rstrip('\\t\\n') for line in open(file_name)]\n",
        "  f_list = [event.split('\\t') for event in lines]\n",
        "\n",
        "\n",
        "\n",
        "  alp = list(string.ascii_lowercase)\n",
        "  alp2 = list(map(''.join,itertools.combinations(string.ascii_lowercase,2)))\n",
        "\n",
        "  #print (alp)\n",
        "  #print (alp2)\n",
        "\n",
        "\n",
        "\n",
        "\n",
        "  # ##########################################################\n",
        "\n",
        "  KeyUps = [x for x in f_list if 'KeyUp' in x]\n",
        "  KeyDowns = [x for x in f_list if 'KeyDown' in x]\n",
        "\n",
        "  # ###########################################################\n",
        "\n",
        "  tups =  [item[-1].split(' ')[-1].split(\":\",1)[1] for item in KeyUps]# if item[1] in alp]\n",
        "  tdowns =  [item1[-1].split(' ')[-1].split(\":\",1)[1] for item1 in KeyDowns]\n",
        "\n",
        "  #print (tups)\n",
        "  # if item1[1] in alp]\n",
        "  try:\n",
        "      letterup =  [item[1].upper() for item in KeyUps]# if item[1] in alp]\n",
        "  except: \n",
        "      pass\n",
        "\n",
        "  try:\n",
        "      letterdown = [item1[1].upper() for item1 in KeyDowns]# if item1[1] in alp]\n",
        "  except:\n",
        "      pass\n",
        "\n",
        "  #print (letterup)\n",
        "\n",
        "  # #############################################################\n",
        "\n",
        "\n",
        "  for i in range(0,len(tups)-1):\n",
        "      t = i\n",
        "\n",
        "      t1 = tdowns[i]\n",
        "\n",
        "      if letterup[t] != letterdown[i]:\n",
        "          j = i\n",
        "\n",
        "          if i == len(tups)-1:\n",
        "              j = 0\n",
        "          while j<len(tups)-1 and letterdown[i]!= letterup[j] and i!=len(tups)-1:\n",
        "              j = j+1\n",
        "\n",
        "          tj = tups[j]\n",
        "          k = i\n",
        "\n",
        "          if i == 0:\n",
        "              k = len(tups)-1\n",
        "          while k>=1 and letterdown[i]!= letterup[k] and i!=0:\n",
        "              k = k-1\n",
        "\n",
        "          tk = tups[k]\n",
        "\n",
        "\n",
        "          if timediff(t1,tk)>0 and timediff(t1,tj)>0 :\n",
        "              if abs(j-i)<abs(i-k):\n",
        "                  t = j\n",
        "              else:\n",
        "                  t = k\n",
        "\n",
        "          elif timediff(t1,tk)<0 :\n",
        "              t = j\n",
        "          else:\n",
        "              t = k\n",
        "\n",
        "      t2 = tups[t]\n",
        "\n",
        "\n",
        "\n",
        "      if i!=len(tups)-1:\n",
        "\n",
        "          t3 = tdowns[i+1]\n",
        "          latency = timediff(t1,t3)\n",
        "\n",
        "          lat = [int(letterdown[i]+letterdown[i+1]),latency]\n",
        "          features1.append(lat)\n",
        "          y1.append(k-1)\n",
        "\n",
        "      hold_time = timediff(t1,t2)\n",
        "      hold = [int(letterdown[i]),hold_time]\n",
        "      features1.append(hold)\n",
        "      y1.append(k-1)"
      ],
      "execution_count": 253,
      "outputs": [
        {
          "output_type": "stream",
          "text": [
            "9\n",
            "10\n"
          ],
          "name": "stdout"
        }
      ]
    },
    {
      "cell_type": "code",
      "metadata": {
        "id": "H1-D5CNDgSyc",
        "colab_type": "code",
        "colab": {
          "base_uri": "https://localhost:8080/",
          "height": 34
        },
        "outputId": "1ebc55c7-5b80-40f9-e8de-144f923ea1bd"
      },
      "source": [
        "g1=np.array(features1)\n",
        "print (g1.shape)"
      ],
      "execution_count": 254,
      "outputs": [
        {
          "output_type": "stream",
          "text": [
            "(32794, 2)\n"
          ],
          "name": "stdout"
        }
      ]
    },
    {
      "cell_type": "code",
      "metadata": {
        "id": "XaIMwMfBLSAQ",
        "colab_type": "code",
        "outputId": "3a348673-9327-4333-dfc8-f75dc8463419",
        "colab": {
          "base_uri": "https://localhost:8080/",
          "height": 34
        }
      },
      "source": [
        "import numpy as np\n",
        "\n",
        "g=np.array(features)\n",
        "print (g.shape)"
      ],
      "execution_count": 255,
      "outputs": [
        {
          "output_type": "stream",
          "text": [
            "(113752, 2)\n"
          ],
          "name": "stdout"
        }
      ]
    },
    {
      "cell_type": "code",
      "metadata": {
        "id": "dClR5a85WdiF",
        "colab_type": "code",
        "colab": {}
      },
      "source": [
        "X_train=g\n",
        "y_train=y"
      ],
      "execution_count": 0,
      "outputs": []
    },
    {
      "cell_type": "code",
      "metadata": {
        "id": "8C3Non8rgjtH",
        "colab_type": "code",
        "colab": {}
      },
      "source": [
        "X_test=g1\n",
        "y_test=y1"
      ],
      "execution_count": 0,
      "outputs": []
    },
    {
      "cell_type": "code",
      "metadata": {
        "id": "n_ElMTUBWh3X",
        "colab_type": "code",
        "colab": {}
      },
      "source": [
        "X_train = X_train / X_train.max(axis=0)\n",
        "X_test=X_test/X_test.max(axis=0)"
      ],
      "execution_count": 0,
      "outputs": []
    },
    {
      "cell_type": "code",
      "metadata": {
        "id": "1T52El2biASx",
        "colab_type": "code",
        "colab": {}
      },
      "source": [
        "X_t=X_train\n",
        "y_t=y_train"
      ],
      "execution_count": 0,
      "outputs": []
    },
    {
      "cell_type": "code",
      "metadata": {
        "id": "AHQFpWB2hZcL",
        "colab_type": "code",
        "colab": {}
      },
      "source": [
        "X_train=X_t[0:100000]\n",
        "y_train=y_t[0:100000]\n",
        "\n",
        "X_val=X_t[100000:-1]\n",
        "y_val=y_t[100000:-1]"
      ],
      "execution_count": 0,
      "outputs": []
    },
    {
      "cell_type": "code",
      "metadata": {
        "id": "wkbX3m2TXfKS",
        "colab_type": "code",
        "colab": {}
      },
      "source": [
        "from minisom import MiniSom    \n",
        "from matplotlib.gridspec import GridSpec\n",
        "k=50\n",
        "\n",
        "som = MiniSom(k,k, 2,neighborhood_function='gaussian') \n",
        "\n",
        "som.train_random(X_train, 10000)"
      ],
      "execution_count": 0,
      "outputs": []
    },
    {
      "cell_type": "code",
      "metadata": {
        "id": "fMvJ3kvrYzJP",
        "colab_type": "code",
        "colab": {
          "base_uri": "https://localhost:8080/",
          "height": 324
        },
        "outputId": "d11229dc-c60b-4e9c-d7c9-c57977eb0cd6"
      },
      "source": [
        "plt.figure(figsize=(k/10, k/10))\n",
        "\n",
        "frequencies = np.zeros((k, k))\n",
        "for position, values in som.win_map(X_train).items():\n",
        "    frequencies[position[0], position[1]] = len(values)\n",
        "plt.pcolor(frequencies, cmap='Blues')\n",
        "plt.colorbar()\n",
        "plt.show()"
      ],
      "execution_count": 274,
      "outputs": [
        {
          "output_type": "display_data",
          "data": {
            "image/png": "[encoded data removed]",
            "text/plain": [
              "<Figure size 360x360 with 2 Axes>"
            ]
          },
          "metadata": {
            "tags": []
          }
        }
      ]
    },
    {
      "cell_type": "code",
      "metadata": {
        "id": "GbdJE_a6icLu",
        "colab_type": "code",
        "colab": {}
      },
      "source": [
        "qe = np.linalg.norm(som.quantization(X_train) - X_train, axis=1)\n",
        "\n",
        "\n",
        "\n",
        "#is_outlier =qe > error_treshold"
      ],
      "execution_count": 0,
      "outputs": []
    },
    {
      "cell_type": "code",
      "metadata": {
        "id": "VFM7WHdpkDsv",
        "colab_type": "code",
        "colab": {}
      },
      "source": [
        "err_hold = np.percentile(qe,80)\n",
        "tp=0\n",
        "fp=0\n",
        "tn=0\n",
        "fn=0"
      ],
      "execution_count": 0,
      "outputs": []
    },
    {
      "cell_type": "code",
      "metadata": {
        "id": "mpd3xZZukHth",
        "colab_type": "code",
        "colab": {}
      },
      "source": [
        "qe1 = np.linalg.norm(som.quantization(X_val) - X_val, axis=1)"
      ],
      "execution_count": 0,
      "outputs": []
    },
    {
      "cell_type": "code",
      "metadata": {
        "id": "afgNSjR3kIKJ",
        "colab_type": "code",
        "colab": {}
      },
      "source": [
        "qe2 = np.linalg.norm(som.quantization(X_test) - X_test, axis=1)"
      ],
      "execution_count": 0,
      "outputs": []
    },
    {
      "cell_type": "code",
      "metadata": {
        "id": "vBPXz0g3j8S9",
        "colab_type": "code",
        "colab": {
          "base_uri": "https://localhost:8080/",
          "height": 51
        },
        "outputId": "5ee510c8-577c-4c0f-ccbc-361aa243976d"
      },
      "source": [
        "for i in range(0,len(qe1)):\n",
        "  \n",
        "  j=qe1[i]\n",
        "  if (j<err_hold):\n",
        "    tp=tp+1\n",
        "  else:\n",
        "    \n",
        "    fn=fn+1\n",
        "    \n",
        "    \n",
        "print (tp)\n",
        "print (fn)"
      ],
      "execution_count": 279,
      "outputs": [
        {
          "output_type": "stream",
          "text": [
            "8753\n",
            "4998\n"
          ],
          "name": "stdout"
        }
      ]
    },
    {
      "cell_type": "code",
      "metadata": {
        "id": "iM36u8DtkCuS",
        "colab_type": "code",
        "colab": {
          "base_uri": "https://localhost:8080/",
          "height": 51
        },
        "outputId": "27db43b7-96b9-4a1b-eabe-09b67e0af73e"
      },
      "source": [
        "for i in range(0,len(qe2)):\n",
        "  \n",
        "  j=qe2[i]\n",
        "  if (j<err_hold):\n",
        "    fp=fp+1\n",
        "  else:\n",
        "    \n",
        "    tn=tn+1\n",
        "    \n",
        "print (tn)\n",
        "print (fp)"
      ],
      "execution_count": 280,
      "outputs": [
        {
          "output_type": "stream",
          "text": [
            "11734\n",
            "21060\n"
          ],
          "name": "stdout"
        }
      ]
    }
  ]
}